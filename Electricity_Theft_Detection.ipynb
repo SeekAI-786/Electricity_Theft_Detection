{
  "nbformat": 4,
  "nbformat_minor": 0,
  "metadata": {
    "colab": {
      "provenance": []
    },
    "kernelspec": {
      "name": "python3",
      "display_name": "Python 3"
    },
    "language_info": {
      "name": "python"
    }
  },
  "cells": [
    {
      "cell_type": "code",
      "source": [
        "import pandas as pd\n",
        "import numpy as np\n",
        "import pickle\n",
        "from sklearn.model_selection import train_test_split, GridSearchCV\n",
        "from sklearn.preprocessing import StandardScaler, LabelEncoder\n",
        "from sklearn.ensemble import RandomForestClassifier\n",
        "from sklearn.pipeline import Pipeline\n",
        "from imblearn.over_sampling import SMOTE\n",
        "\n",
        "# Load dataset (replace 'your_dataset.csv' with the actual dataset file)\n",
        "df = pd.read_csv('/content/electricity_new.csv')\n",
        "\n",
        "# Step 1: Handle missing values\n",
        "df.fillna(df.median(), inplace=True)\n",
        "\n",
        "# Step 2: Encode categorical variables\n",
        "label_encoder = LabelEncoder()\n",
        "if 'TimeOfDay' in df.columns:\n",
        "    df['TimeOfDay'] = label_encoder.fit_transform(df['TimeOfDay'])\n",
        "\n",
        "# Step 3: Separate features and target variable\n",
        "X = df.drop('Theft', axis=1)\n",
        "y = df['Theft']\n",
        "\n",
        "# Step 4: Address class imbalance (if any)\n",
        "smote = SMOTE()\n",
        "X_resampled, y_resampled = smote.fit_resample(X, y)\n",
        "\n",
        "# Step 5: Split dataset into training and testing sets\n",
        "X_train, X_test, y_train, y_test = train_test_split(X_resampled, y_resampled, test_size=0.2, random_state=42)\n",
        "\n",
        "# Step 6: Create a pipeline with scaling and model training\n",
        "pipeline = Pipeline([\n",
        "    ('scaler', StandardScaler()),\n",
        "    ('classifier', RandomForestClassifier(random_state=42))\n",
        "])\n",
        "\n",
        "# Step 7: Hyperparameter tuning using GridSearchCV\n",
        "param_grid = {\n",
        "    'classifier__n_estimators': [100, 200, 300],\n",
        "    'classifier__max_depth': [None, 10, 20],\n",
        "    'classifier__min_samples_split': [2, 5, 10]\n",
        "}\n",
        "\n",
        "grid_search = GridSearchCV(estimator=pipeline, param_grid=param_grid, cv=5, scoring='f1', n_jobs=-1)\n",
        "grid_search.fit(X_train, y_train)\n",
        "\n",
        "# Best model from GridSearchCV\n",
        "best_pipeline = grid_search.best_estimator_\n",
        "\n",
        "# Step 8: Save the pipeline as a pickle file\n",
        "with open('theft_prediction_pipeline.pkl', 'wb') as pipeline_file:\n",
        "    pickle.dump(best_pipeline, pipeline_file)\n",
        "\n",
        "print(\"Pipeline saved as a pickle file.\")\n"
      ],
      "metadata": {
        "id": "RYThnGdNUO3r"
      },
      "execution_count": null,
      "outputs": []
    }
  ]
}